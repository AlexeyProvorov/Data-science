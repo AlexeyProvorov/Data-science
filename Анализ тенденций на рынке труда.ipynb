{
  "nbformat": 4,
  "nbformat_minor": 0,
  "metadata": {
    "kernelspec": {
      "display_name": "Python 3",
      "language": "python",
      "name": "python3"
    },
    "language_info": {
      "codemirror_mode": {
        "name": "ipython",
        "version": 3
      },
      "file_extension": ".py",
      "mimetype": "text/x-python",
      "name": "python",
      "nbconvert_exporter": "python",
      "pygments_lexer": "ipython3",
      "version": "3.7.6"
    },
    "colab": {
      "name": "Блокнот__Margaritis_Monile_ipynb_.ipynb",
      "provenance": [],
      "collapsed_sections": [],
      "include_colab_link": true
    }
  },
  "cells": [
    {
      "cell_type": "markdown",
      "metadata": {
        "id": "view-in-github",
        "colab_type": "text"
      },
      "source": [
        "<a href=\"https://colab.research.google.com/github/LeoProvorov/Data-science/blob/master/%D0%90%D0%BD%D0%B0%D0%BB%D0%B8%D0%B7%20%D1%82%D0%B5%D0%BD%D0%B4%D0%B5%D0%BD%D1%86%D0%B8%D0%B9%20%D0%BD%D0%B0%20%D1%80%D1%8B%D0%BD%D0%BA%D0%B5%20%D1%82%D1%80%D1%83%D0%B4%D0%B0.ipynb\" target=\"_parent\"><img src=\"https://colab.research.google.com/assets/colab-badge.svg\" alt=\"Open In Colab\"/></a>"
      ]
    },
    {
      "cell_type": "markdown",
      "metadata": {
        "id": "cHtRWVnZqWQB"
      },
      "source": [
        "#Трек #1 Анализ тенденций на рынке труда в условиях пандемии"
      ]
    },
    {
      "cell_type": "markdown",
      "metadata": {
        "id": "7yZvyZ7Hso_u"
      },
      "source": [
        "**Цель исследования:** определить портреты наиболее уязвимых групп граждан и проследить динамику безработицы среди этих групп, чтобы предложить рекомендации по поддержке этих категорий граждан\n",
        "\n",
        "\n",
        "**Группы:** \n",
        "1.   многодетные и неполные семьи\n",
        "2.   люди предпенсионного возраста\n",
        "3.   малоимущие граждане, заключившие социальный контракт\n",
        "\n",
        "\n",
        "**Фокус исследования**: выделены 3 категории лиц, испытывающих трудности"
      ]
    },
    {
      "cell_type": "code",
      "metadata": {
        "id": "XVGIP7AIgrRe"
      },
      "source": [
        "# импорт библиотек\n",
        "import pandas as pd\n",
        "import numpy as np\n",
        "import math as mth\n",
        "import matplotlib.pyplot as plt\n",
        "import requests\n",
        "from io import StringIO\n",
        "pd.set_option('display.max_columns', None)"
      ],
      "execution_count": null,
      "outputs": []
    },
    {
      "cell_type": "code",
      "metadata": {
        "id": "Cw73OKytrq7I"
      },
      "source": [
        "# настройка вывода данных на экран\n",
        "pd.set_option('display.max_columns', None)\n",
        "pd.set_option('display.max_rows', None)\n",
        "pd.set_option('display.width', 1000)\n",
        "pd.set_option('max_colwidth', 800)\n",
        "pd.set_option('display.expand_frame_repr', False)\n",
        "pd.options.display.float_format = '{:,.2f}'.format\n",
        "\n",
        "# Выводить по умолчанию график нужного размера\n",
        "plt.rcParams['figure.figsize'] = (16,8)"
      ],
      "execution_count": null,
      "outputs": []
    },
    {
      "cell_type": "code",
      "metadata": {
        "id": "Q_herihBgrRj"
      },
      "source": [
        "# импорт данных\n",
        "\n",
        "url = 'https://drive.google.com/file/d/1LdUOUmHFqAULtwujV4FOHKq-IKlSN2JH/view?usp=sharing'\n",
        "path = 'https://drive.google.com/uc?export=download&id='+url.split('/')[-2]\n",
        "df = pd.read_csv(path, sep=\";\", encoding = \"utf8\")\n"
      ],
      "execution_count": null,
      "outputs": []
    },
    {
      "cell_type": "code",
      "metadata": {
        "id": "KL8B1L87grRk",
        "colab": {
          "base_uri": "https://localhost:8080/",
          "height": 261
        },
        "outputId": "0409cbe5-a8cb-4ba9-95cd-e988665f6c3c"
      },
      "source": [
        "df.head(2)"
      ],
      "execution_count": null,
      "outputs": [
        {
          "output_type": "execute_result",
          "data": {
            "text/html": [
              "<div>\n",
              "<style scoped>\n",
              "    .dataframe tbody tr th:only-of-type {\n",
              "        vertical-align: middle;\n",
              "    }\n",
              "\n",
              "    .dataframe tbody tr th {\n",
              "        vertical-align: top;\n",
              "    }\n",
              "\n",
              "    .dataframe thead th {\n",
              "        text-align: right;\n",
              "    }\n",
              "</style>\n",
              "<table border=\"1\" class=\"dataframe\">\n",
              "  <thead>\n",
              "    <tr style=\"text-align: right;\">\n",
              "      <th></th>\n",
              "      <th>id</th>\n",
              "      <th>month_unemployed</th>\n",
              "      <th>week_unemployed</th>\n",
              "      <th>gender</th>\n",
              "      <th>age</th>\n",
              "      <th>hc_any</th>\n",
              "      <th>hc_repeat</th>\n",
              "      <th>hc_didnotwork</th>\n",
              "      <th>hc_predpens</th>\n",
              "      <th>hc_largefam</th>\n",
              "      <th>hc_finisheducczn</th>\n",
              "      <th>hc_divorced</th>\n",
              "      <th>hc_singleparent</th>\n",
              "      <th>hc_redundantworkers</th>\n",
              "      <th>hc_socialcontr</th>\n",
              "      <th>jobless_category</th>\n",
              "      <th>month_jobless</th>\n",
              "      <th>month_end_busyness</th>\n",
              "      <th>education</th>\n",
              "      <th>year_graduation</th>\n",
              "      <th>profession_last_educ</th>\n",
              "      <th>region</th>\n",
              "      <th>district</th>\n",
              "      <th>experience</th>\n",
              "      <th>salary_average</th>\n",
              "      <th>profession_last_work</th>\n",
              "      <th>dismissal_reason</th>\n",
              "      <th>month_dismissal</th>\n",
              "      <th>educ_napravl</th>\n",
              "      <th>education_speciality</th>\n",
              "      <th>prof_education_dur</th>\n",
              "      <th>work_napravl_number</th>\n",
              "      <th>work_napravl_refusal_number</th>\n",
              "      <th>work_refusal_number</th>\n",
              "      <th>employer_refusal_number</th>\n",
              "      <th>expected_salary</th>\n",
              "      <th>employment_type</th>\n",
              "      <th>employment_mode</th>\n",
              "      <th>month_employment</th>\n",
              "      <th>week_employment</th>\n",
              "      <th>profession_employment</th>\n",
              "      <th>month_close</th>\n",
              "      <th>reason_close</th>\n",
              "      <th>month_end</th>\n",
              "      <th>reason_end</th>\n",
              "    </tr>\n",
              "  </thead>\n",
              "  <tbody>\n",
              "    <tr>\n",
              "      <th>0</th>\n",
              "      <td>3d7cb8ae-a038-4a8d-af40-4529cf532426</td>\n",
              "      <td>2020-03</td>\n",
              "      <td>11</td>\n",
              "      <td>Женский</td>\n",
              "      <td>4.00</td>\n",
              "      <td>False</td>\n",
              "      <td>False</td>\n",
              "      <td>False</td>\n",
              "      <td>False</td>\n",
              "      <td>False</td>\n",
              "      <td>False</td>\n",
              "      <td>False</td>\n",
              "      <td>False</td>\n",
              "      <td>False</td>\n",
              "      <td>False</td>\n",
              "      <td>Уволенный из организации, ИП, с муниципальной или государственной службы</td>\n",
              "      <td>-1</td>\n",
              "      <td>2020-03</td>\n",
              "      <td>Высшее образование - специалитет</td>\n",
              "      <td>2011</td>\n",
              "      <td>Экономист</td>\n",
              "      <td>Республика Татарстан (Татарстан)</td>\n",
              "      <td>Приволжский федеральный округ</td>\n",
              "      <td>9.00</td>\n",
              "      <td>24000.0</td>\n",
              "      <td>Специалист</td>\n",
              "      <td>Расторжение трудового договора по инициативе работника, служащего</td>\n",
              "      <td>2020-01</td>\n",
              "      <td>False</td>\n",
              "      <td>-1</td>\n",
              "      <td>-1</td>\n",
              "      <td>1.0</td>\n",
              "      <td>0.0</td>\n",
              "      <td>1.0</td>\n",
              "      <td>1.0</td>\n",
              "      <td>25000.0</td>\n",
              "      <td>-1</td>\n",
              "      <td>-1</td>\n",
              "      <td>-1</td>\n",
              "      <td>-1</td>\n",
              "      <td>-1</td>\n",
              "      <td>-1</td>\n",
              "      <td>-1</td>\n",
              "      <td>-1</td>\n",
              "      <td>-1</td>\n",
              "    </tr>\n",
              "    <tr>\n",
              "      <th>1</th>\n",
              "      <td>a8bd7bf2-c47d-4391-bffc-7e8275b22781</td>\n",
              "      <td>2020-07</td>\n",
              "      <td>27</td>\n",
              "      <td>Мужской</td>\n",
              "      <td>4.00</td>\n",
              "      <td>True</td>\n",
              "      <td>False</td>\n",
              "      <td>True</td>\n",
              "      <td>False</td>\n",
              "      <td>False</td>\n",
              "      <td>False</td>\n",
              "      <td>False</td>\n",
              "      <td>False</td>\n",
              "      <td>False</td>\n",
              "      <td>False</td>\n",
              "      <td>-1</td>\n",
              "      <td>-1</td>\n",
              "      <td>2020-07</td>\n",
              "      <td>Среднее общее образование</td>\n",
              "      <td>-1</td>\n",
              "      <td>-1</td>\n",
              "      <td>Республика Татарстан (Татарстан)</td>\n",
              "      <td>Приволжский федеральный округ</td>\n",
              "      <td>0.00</td>\n",
              "      <td>-1</td>\n",
              "      <td>-1</td>\n",
              "      <td>-1</td>\n",
              "      <td>-1</td>\n",
              "      <td>False</td>\n",
              "      <td>-1</td>\n",
              "      <td>-1</td>\n",
              "      <td>2.0</td>\n",
              "      <td>0.0</td>\n",
              "      <td>2.0</td>\n",
              "      <td>2.0</td>\n",
              "      <td>-1</td>\n",
              "      <td>-1</td>\n",
              "      <td>-1</td>\n",
              "      <td>-1</td>\n",
              "      <td>-1</td>\n",
              "      <td>-1</td>\n",
              "      <td>-1</td>\n",
              "      <td>-1</td>\n",
              "      <td>-1</td>\n",
              "      <td>-1</td>\n",
              "    </tr>\n",
              "  </tbody>\n",
              "</table>\n",
              "</div>"
            ],
            "text/plain": [
              "                                     id month_unemployed  week_unemployed   gender  age  hc_any  hc_repeat  hc_didnotwork  hc_predpens  hc_largefam  hc_finisheducczn  hc_divorced  hc_singleparent  hc_redundantworkers  hc_socialcontr                                                          jobless_category month_jobless month_end_busyness                         education year_graduation profession_last_educ                            region                       district  experience salary_average profession_last_work                                                   dismissal_reason month_dismissal  educ_napravl education_speciality prof_education_dur work_napravl_number work_napravl_refusal_number work_refusal_number employer_refusal_number expected_salary employment_type employment_mode month_employment week_employment profession_employment month_close reason_close month_end reason_end\n",
              "0  3d7cb8ae-a038-4a8d-af40-4529cf532426          2020-03               11  Женский 4.00   False      False          False        False        False             False        False            False                False           False  Уволенный из организации, ИП, с муниципальной или государственной службы            -1            2020-03  Высшее образование - специалитет            2011            Экономист  Республика Татарстан (Татарстан)  Приволжский федеральный округ        9.00        24000.0           Специалист  Расторжение трудового договора по инициативе работника, служащего         2020-01         False                   -1                 -1                 1.0                         0.0                 1.0                     1.0         25000.0              -1              -1               -1              -1                    -1          -1           -1        -1         -1\n",
              "1  a8bd7bf2-c47d-4391-bffc-7e8275b22781          2020-07               27  Мужской 4.00    True      False           True        False        False             False        False            False                False           False                                                                        -1            -1            2020-07         Среднее общее образование              -1                   -1  Республика Татарстан (Татарстан)  Приволжский федеральный округ        0.00             -1                   -1                                                                 -1              -1         False                   -1                 -1                 2.0                         0.0                 2.0                     2.0              -1              -1              -1               -1              -1                    -1          -1           -1        -1         -1"
            ]
          },
          "metadata": {
            "tags": []
          },
          "execution_count": 14
        }
      ]
    },
    {
      "cell_type": "code",
      "metadata": {
        "id": "XGOUtNzzgrRl"
      },
      "source": [
        "# заменяем все пропуски (None) на -1 для удобства обработки\n",
        "df = df.replace(\"None\", \"-1\")"
      ],
      "execution_count": null,
      "outputs": []
    },
    {
      "cell_type": "code",
      "metadata": {
        "id": "mz8mtgWA9tSP"
      },
      "source": [
        "#преобразуем возраст в понятные величины\n",
        "meaning = {1:'16-17',\n",
        "          2:'18-22',\n",
        "          3:'23-27',\n",
        "          4:'28-32',\n",
        "          5:'33-37',\n",
        "          6:'38-42',\n",
        "          7:'43-47',\n",
        "          8:'48-52',\n",
        "          9:'53-54',\n",
        "          10:'55',\n",
        "          11:'56',\n",
        "          12:'57',\n",
        "          13:'58',\n",
        "          14:'59',\n",
        "          15:'60',\n",
        "          16:'старше 60'}"
      ],
      "execution_count": null,
      "outputs": []
    },
    {
      "cell_type": "code",
      "metadata": {
        "id": "GHNZbCfD90N6"
      },
      "source": [
        "df['age'] = df['age'].replace(meaning)"
      ],
      "execution_count": null,
      "outputs": []
    },
    {
      "cell_type": "code",
      "metadata": {
        "id": "l9bO0Y5AgrRl"
      },
      "source": [
        "# в данных с заработными платами удаляем пробелы и преобразуем текстовые данные в числовые\n",
        "salary = ['expected_salary','salary_average']\n",
        "df[salary] = df[salary].replace(r'\\s+','',regex=True)\n",
        "\n",
        "df['salary_average'] = pd.to_numeric(df['salary_average']).astype('int')\n",
        "df['expected_salary'] = pd.to_numeric(df['expected_salary']).astype('int')   "
      ],
      "execution_count": null,
      "outputs": []
    },
    {
      "cell_type": "code",
      "metadata": {
        "id": "dRQ-0RG9grRl",
        "outputId": "c558c8bb-1756-4b5b-ab95-ab0a25fe0e78"
      },
      "source": [
        "# выделяем отдельные датасеты по анализируемым группам и добавляем колонку с этим признаком: \n",
        "# лица предпенсионного возраста \n",
        "gr_predpens = df.query('hc_predpens == True')\n",
        "gr_predpens['group'] = \"predpens\"\n",
        "# многодетные и неполные семьи\n",
        "gr_kids = df.query('hc_largefam\t == True or hc_singleparent == True')\n",
        "gr_kids['group'] = \"kids\"\n",
        "# малоимущие граждане, заключивщие социальный контракт\n",
        "gr_social = df.query('hc_socialcontr == True')\n",
        "gr_social['group'] = \"social\""
      ],
      "execution_count": null,
      "outputs": [
        {
          "output_type": "stream",
          "text": [
            "C:\\Anaconda_3\\lib\\site-packages\\ipykernel_launcher.py:2: SettingWithCopyWarning: \n",
            "A value is trying to be set on a copy of a slice from a DataFrame.\n",
            "Try using .loc[row_indexer,col_indexer] = value instead\n",
            "\n",
            "See the caveats in the documentation: https://pandas.pydata.org/pandas-docs/stable/user_guide/indexing.html#returning-a-view-versus-a-copy\n",
            "  \n",
            "C:\\Anaconda_3\\lib\\site-packages\\ipykernel_launcher.py:4: SettingWithCopyWarning: \n",
            "A value is trying to be set on a copy of a slice from a DataFrame.\n",
            "Try using .loc[row_indexer,col_indexer] = value instead\n",
            "\n",
            "See the caveats in the documentation: https://pandas.pydata.org/pandas-docs/stable/user_guide/indexing.html#returning-a-view-versus-a-copy\n",
            "  after removing the cwd from sys.path.\n",
            "C:\\Anaconda_3\\lib\\site-packages\\ipykernel_launcher.py:6: SettingWithCopyWarning: \n",
            "A value is trying to be set on a copy of a slice from a DataFrame.\n",
            "Try using .loc[row_indexer,col_indexer] = value instead\n",
            "\n",
            "See the caveats in the documentation: https://pandas.pydata.org/pandas-docs/stable/user_guide/indexing.html#returning-a-view-versus-a-copy\n",
            "  \n"
          ],
          "name": "stderr"
        }
      ]
    },
    {
      "cell_type": "code",
      "metadata": {
        "id": "1O42KPGzgrRl"
      },
      "source": [
        "# объединяем вырезанные датасеты в один\n",
        "df2 = pd.concat([gr_predpens, gr_kids, gr_social])"
      ],
      "execution_count": null,
      "outputs": []
    },
    {
      "cell_type": "code",
      "metadata": {
        "id": "IqLezNzCgrRm"
      },
      "source": [
        "# готовим сводные данные по всем безработным \n",
        "df['group'] = \"total\"\n",
        "# группируем количество безработных по региону, полу, возрасту и т.д.\n",
        "svod_total = df.pivot_table(index=['group', 'district', 'region', 'month_unemployed', 'gender', 'education', 'age', 'hc_didnotwork'],\n",
        "                values='id',aggfunc='count').reset_index()\n",
        "# так же группируем выделенные по группам лиц данные\n",
        "svod = df2.pivot_table(index=['group', 'district', 'region', 'month_unemployed', 'gender', 'education', 'age', 'hc_didnotwork'],\n",
        "                values='id',aggfunc='count').reset_index()\n",
        "# объединяем сгруппиованные данные\n",
        "svod = pd.concat([svod, svod_total])"
      ],
      "execution_count": null,
      "outputs": []
    },
    {
      "cell_type": "code",
      "metadata": {
        "id": "fBSKe9B4grRm"
      },
      "source": [
        "# выделяем данные по зарплатам для расчета средних показателей\n",
        "salary_1 = df2.query('expected_salary > 0')\n",
        "salary_2 = df2.query('salary_average > 0')\n",
        "salary_1_total = df.query('expected_salary > 0')\n",
        "salary_2_total = df.query('salary_average > 0')"
      ],
      "execution_count": null,
      "outputs": []
    },
    {
      "cell_type": "code",
      "metadata": {
        "id": "SxNKstNHgrRm"
      },
      "source": [
        "# группируем данные по средним зарплатам в разрезе региона, пола, возраста и т.д.\n",
        "svod_1 = salary_1.pivot_table(index=['group', 'district', 'region', 'month_unemployed', 'gender', 'education', 'age', 'hc_didnotwork'],\n",
        "                values='expected_salary',aggfunc='median').reset_index()\n",
        "\n",
        "svod_2 = salary_2.pivot_table(index=['group', 'district', 'region', 'month_unemployed', 'gender', 'education', 'age', 'hc_didnotwork'],\n",
        "                values='salary_average',aggfunc='median').reset_index()\n",
        "svod_1_total = salary_1_total.pivot_table(index=['group', 'district', 'region', 'month_unemployed', 'gender', 'education', 'age', 'hc_didnotwork'],\n",
        "                values='expected_salary',aggfunc='median').reset_index()\n",
        "\n",
        "svod_2_total = salary_2_total.pivot_table(index=['group', 'district', 'region', 'month_unemployed', 'gender', 'education', 'age', 'hc_didnotwork'],\n",
        "                values='salary_average',aggfunc='median').reset_index()"
      ],
      "execution_count": null,
      "outputs": []
    },
    {
      "cell_type": "code",
      "metadata": {
        "id": "HjK8ogIhh2Jy"
      },
      "source": [
        "# выделяем данные с гражданами, нашедшими работу\n",
        "employ = df2.query('month_employment != \"-1\"')\n",
        "employ_total = df.query('month_employment != \"-1\"')"
      ],
      "execution_count": null,
      "outputs": []
    },
    {
      "cell_type": "code",
      "metadata": {
        "id": "bXxAsYQYh0qv"
      },
      "source": [
        "# Группируем данные с трудоустроенными гражданами в разрезе региона, пола, возраста и др.\n",
        "svod_3 = employ.pivot_table(index=['group', 'district', 'region', 'month_employment', 'gender', 'education', 'age', 'hc_didnotwork'],\n",
        "                values='id',aggfunc='count').reset_index()\n",
        "svod_3_total = employ_total.pivot_table(index=['group', 'district', 'region', 'month_employment', 'gender', 'education', 'age', 'hc_didnotwork'],\n",
        "                values='id',aggfunc='count').reset_index()"
      ],
      "execution_count": null,
      "outputs": []
    },
    {
      "cell_type": "code",
      "metadata": {
        "id": "XghVd2HhgrRn"
      },
      "source": [
        "# объединяем сгруппированные данные\n",
        "svod_1 = pd.concat([svod_1, svod_1_total])\n",
        "svod_2 = pd.concat([svod_2, svod_2_total])"
      ],
      "execution_count": null,
      "outputs": []
    },
    {
      "cell_type": "code",
      "metadata": {
        "id": "njlPkvFZiDHo"
      },
      "source": [
        "# объединяем сгруппированные данные\n",
        "svod_3 = pd.concat([svod_3, svod_3_total])\n",
        "svod_3.columns = ['group', 'district', 'region', 'month', 'gender', 'education', 'age', 'hc_didnotwork', 'employment amount']"
      ],
      "execution_count": null,
      "outputs": []
    },
    {
      "cell_type": "code",
      "metadata": {
        "id": "OuvYGd5EgrRn"
      },
      "source": [
        "# объединяем сгруппированные данные в общий датасет\n",
        "svod = svod.merge(svod_1, left_on=['group', 'district', 'region', 'month_unemployed', 'gender', 'education', 'age', 'hc_didnotwork'],\n",
        "          right_on=['group', 'district', 'region', 'month_unemployed', 'gender', 'education', 'age', 'hc_didnotwork'],how='left')"
      ],
      "execution_count": null,
      "outputs": []
    },
    {
      "cell_type": "code",
      "metadata": {
        "id": "GsAAz8n2grRn"
      },
      "source": [
        "# объединяем сгруппированные данные в общий датасет\n",
        "svod = svod.merge(svod_2, left_on=['group', 'district', 'region', 'month_unemployed', 'gender', 'education', 'age', 'hc_didnotwork'],\n",
        "          right_on=['group', 'district', 'region', 'month_unemployed', 'gender', 'education', 'age', 'hc_didnotwork'],how='left')"
      ],
      "execution_count": null,
      "outputs": []
    },
    {
      "cell_type": "code",
      "metadata": {
        "id": "zHKmwNuEj15R"
      },
      "source": [
        "# переименовываем заголовки столбцов\n",
        "svod.columns = ['group', 'district', 'region', 'month', 'gender', 'education', 'age', 'hc_didnotwork', 'amount', 'expected_salary', 'salary_average']"
      ],
      "execution_count": null,
      "outputs": []
    },
    {
      "cell_type": "code",
      "metadata": {
        "id": "XDfbPKUjiQws"
      },
      "source": [
        "# объединяем сгруппированные данные в общий датасет\n",
        "svod = svod.merge(svod_3, left_on=['group', 'district', 'region', 'month', 'gender', 'education', 'age', 'hc_didnotwork'],\n",
        "          right_on=['group', 'district', 'region', 'month', 'gender', 'education', 'age', 'hc_didnotwork'],how='left')"
      ],
      "execution_count": null,
      "outputs": []
    },
    {
      "cell_type": "code",
      "metadata": {
        "id": "xlTgt6TKlRlq"
      },
      "source": [
        "# приводим количество граждан в числовой формат\n",
        "svod['employment amount']  = svod['employment amount'] * -1\n",
        "svod['employment amount'] = svod['employment amount'].fillna(0)\n",
        "svod['employment amount'] = svod['employment amount'].astype('int64')"
      ],
      "execution_count": null,
      "outputs": []
    },
    {
      "cell_type": "code",
      "metadata": {
        "id": "L-DoM3aBgrRn",
        "outputId": "aa45dd38-e1bc-4291-f077-2446d101a8c6"
      },
      "source": [
        "svod.head()"
      ],
      "execution_count": null,
      "outputs": [
        {
          "output_type": "execute_result",
          "data": {
            "text/html": [
              "<div>\n",
              "<style scoped>\n",
              "    .dataframe tbody tr th:only-of-type {\n",
              "        vertical-align: middle;\n",
              "    }\n",
              "\n",
              "    .dataframe tbody tr th {\n",
              "        vertical-align: top;\n",
              "    }\n",
              "\n",
              "    .dataframe thead th {\n",
              "        text-align: right;\n",
              "    }\n",
              "</style>\n",
              "<table border=\"1\" class=\"dataframe\">\n",
              "  <thead>\n",
              "    <tr style=\"text-align: right;\">\n",
              "      <th></th>\n",
              "      <th>group</th>\n",
              "      <th>district</th>\n",
              "      <th>region</th>\n",
              "      <th>month_unemployed</th>\n",
              "      <th>gender</th>\n",
              "      <th>education</th>\n",
              "      <th>age</th>\n",
              "      <th>hc_didnotwork</th>\n",
              "      <th>amount</th>\n",
              "      <th>expected_salary</th>\n",
              "      <th>salary_average</th>\n",
              "    </tr>\n",
              "  </thead>\n",
              "  <tbody>\n",
              "    <tr>\n",
              "      <th>0</th>\n",
              "      <td>kids</td>\n",
              "      <td>Приволжский федеральный округ</td>\n",
              "      <td>Кировская область</td>\n",
              "      <td>2020-03</td>\n",
              "      <td>Женский</td>\n",
              "      <td>Высшее образование - бакалавриат</td>\n",
              "      <td>23-27</td>\n",
              "      <td>False</td>\n",
              "      <td>1</td>\n",
              "      <td>15000.0</td>\n",
              "      <td>19000.0</td>\n",
              "    </tr>\n",
              "    <tr>\n",
              "      <th>1</th>\n",
              "      <td>kids</td>\n",
              "      <td>Приволжский федеральный округ</td>\n",
              "      <td>Кировская область</td>\n",
              "      <td>2020-03</td>\n",
              "      <td>Женский</td>\n",
              "      <td>Высшее образование - специалитет</td>\n",
              "      <td>28-32</td>\n",
              "      <td>False</td>\n",
              "      <td>1</td>\n",
              "      <td>15000.0</td>\n",
              "      <td>19000.0</td>\n",
              "    </tr>\n",
              "    <tr>\n",
              "      <th>2</th>\n",
              "      <td>kids</td>\n",
              "      <td>Приволжский федеральный округ</td>\n",
              "      <td>Кировская область</td>\n",
              "      <td>2020-03</td>\n",
              "      <td>Женский</td>\n",
              "      <td>Высшее образование - специалитет</td>\n",
              "      <td>33-37</td>\n",
              "      <td>False</td>\n",
              "      <td>4</td>\n",
              "      <td>27500.0</td>\n",
              "      <td>11000.0</td>\n",
              "    </tr>\n",
              "    <tr>\n",
              "      <th>3</th>\n",
              "      <td>kids</td>\n",
              "      <td>Приволжский федеральный округ</td>\n",
              "      <td>Кировская область</td>\n",
              "      <td>2020-03</td>\n",
              "      <td>Женский</td>\n",
              "      <td>Высшее образование - специалитет</td>\n",
              "      <td>38-42</td>\n",
              "      <td>False</td>\n",
              "      <td>2</td>\n",
              "      <td>13500.0</td>\n",
              "      <td>14500.0</td>\n",
              "    </tr>\n",
              "    <tr>\n",
              "      <th>4</th>\n",
              "      <td>kids</td>\n",
              "      <td>Приволжский федеральный округ</td>\n",
              "      <td>Кировская область</td>\n",
              "      <td>2020-03</td>\n",
              "      <td>Женский</td>\n",
              "      <td>Высшее образование - специалитет</td>\n",
              "      <td>43-47</td>\n",
              "      <td>False</td>\n",
              "      <td>2</td>\n",
              "      <td>14000.0</td>\n",
              "      <td>24000.0</td>\n",
              "    </tr>\n",
              "  </tbody>\n",
              "</table>\n",
              "</div>"
            ],
            "text/plain": [
              "  group                       district             region month_unemployed  \\\n",
              "0  kids  Приволжский федеральный округ  Кировская область          2020-03   \n",
              "1  kids  Приволжский федеральный округ  Кировская область          2020-03   \n",
              "2  kids  Приволжский федеральный округ  Кировская область          2020-03   \n",
              "3  kids  Приволжский федеральный округ  Кировская область          2020-03   \n",
              "4  kids  Приволжский федеральный округ  Кировская область          2020-03   \n",
              "\n",
              "    gender                         education    age  hc_didnotwork  amount  \\\n",
              "0  Женский  Высшее образование - бакалавриат  23-27          False       1   \n",
              "1  Женский  Высшее образование - специалитет  28-32          False       1   \n",
              "2  Женский  Высшее образование - специалитет  33-37          False       4   \n",
              "3  Женский  Высшее образование - специалитет  38-42          False       2   \n",
              "4  Женский  Высшее образование - специалитет  43-47          False       2   \n",
              "\n",
              "   expected_salary  salary_average  \n",
              "0          15000.0         19000.0  \n",
              "1          15000.0         19000.0  \n",
              "2          27500.0         11000.0  \n",
              "3          13500.0         14500.0  \n",
              "4          14000.0         24000.0  "
            ]
          },
          "metadata": {
            "tags": []
          },
          "execution_count": 15
        }
      ]
    },
    {
      "cell_type": "code",
      "metadata": {
        "id": "SP6-kb2nqYHm"
      },
      "source": [
        "svod.isna().mean()"
      ],
      "execution_count": null,
      "outputs": []
    },
    {
      "cell_type": "code",
      "metadata": {
        "id": "_t-Tbd_4s1f5"
      },
      "source": [
        "svod['education'] = svod['education'].replace('Не указано', '-1')"
      ],
      "execution_count": null,
      "outputs": []
    },
    {
      "cell_type": "code",
      "metadata": {
        "id": "pxer9uHts8yI"
      },
      "source": [
        "# переведём ожидаемую зп в int (пропуски заменим на 0)\n",
        "svod['expected_salary'] = svod['expected_salary'].fillna(0)\n",
        "svod['expected_salary'] = svod['expected_salary'].replace('не указано', 0)"
      ],
      "execution_count": null,
      "outputs": []
    },
    {
      "cell_type": "code",
      "metadata": {
        "id": "TeCPOwHytI5Q"
      },
      "source": [
        "svod['expected_salary'] = pd.to_numeric(svod['expected_salary']).astype('int')\n",
        "svod.head(2)"
      ],
      "execution_count": null,
      "outputs": []
    },
    {
      "cell_type": "code",
      "metadata": {
        "id": "9reDHJ28tRjX"
      },
      "source": [
        "# доля пропусков в образовании составляет около 1.2%\n",
        "svod[svod['education'] == '-1'].shape[0] / svod.shape[0]"
      ],
      "execution_count": null,
      "outputs": []
    },
    {
      "cell_type": "code",
      "metadata": {
        "id": "IvXJUPRCtaep"
      },
      "source": [
        "# добавим группы образования\n",
        "\n",
        "def edu_group(row):\n",
        "    if row['education'] in ['Высшее образование - бакалавриат',\n",
        "                            'Высшее образование - специалитет',\n",
        "                            'Высшее образование - магистратура',\n",
        "                            'Высшее образование - подготовка кадров высшей квалификации']:\n",
        "        return 'Высшее'\n",
        "    elif row['education'] in ['Основное общее образование',\n",
        "                              'Среднее общее образование',\n",
        "                              'Начальное общее образование']:\n",
        "        return 'Среднее'\n",
        "    elif row['education'] in ['Среднее профессиональное образование']:\n",
        "        return 'Среднее профессиональное'\n",
        "    elif row['education'] in ['Другое', '-1']: # незаполненное относим в группе ДРУГОЕ !!!!!!!\n",
        "        return 'Другое'\n",
        "    else:\n",
        "        return '!!! ОШИБКА !!!'\n"
      ],
      "execution_count": null,
      "outputs": []
    },
    {
      "cell_type": "code",
      "metadata": {
        "id": "wqKnQBpYtm0E"
      },
      "source": [
        "svod['edu_group'] = svod.apply(edu_group, axis=1)\n",
        "\n",
        "svod.head(3)"
      ],
      "execution_count": null,
      "outputs": []
    },
    {
      "cell_type": "code",
      "metadata": {
        "id": "P7yAe6G9tseo"
      },
      "source": [
        "# переименуем \"-1\" в образовании на \"не указано\"\n",
        "svod['education'] = svod['education'].replace('-1', 'Не указано')"
      ],
      "execution_count": null,
      "outputs": []
    },
    {
      "cell_type": "code",
      "metadata": {
        "id": "I7yFp_01t121"
      },
      "source": [
        "svod[svod['edu_group'] == '!!! ОШИБКА !!!'].head(3)\n",
        "# ошибок нет"
      ],
      "execution_count": null,
      "outputs": []
    },
    {
      "cell_type": "code",
      "metadata": {
        "id": "5S4k1ttkuPNa"
      },
      "source": [
        "# переведём среднюю зп в int (пропуски заменим на median по региону)\n",
        "svod['salary_average'] = svod['salary_average'].replace('не указано', np.nan)\n",
        "\n",
        "salary_avg_nonan = svod[svod['salary_average'] != np.nan]\n",
        "salary_avg_nonan['salary_average'] = pd.to_numeric(salary_avg_nonan['salary_average']).astype('float')\n",
        "salary_avg_nonan['salary_average'] = salary_avg_nonan['salary_average'].round()\n",
        "salary_avg_nonan.head(2)\n"
      ],
      "execution_count": null,
      "outputs": []
    },
    {
      "cell_type": "code",
      "metadata": {
        "id": "z_eOg5eeuiMh"
      },
      "source": [
        "salary_reg_median = salary_avg_nonan.groupby(['region', 'gender', 'edu_group']) \\\n",
        "    ['salary_average'].median().reset_index()\n",
        "\n",
        "salary_reg_median.head()"
      ],
      "execution_count": null,
      "outputs": []
    },
    {
      "cell_type": "code",
      "metadata": {
        "id": "wId3uUKguqFl"
      },
      "source": [
        "if 'salary_average_x' in svod.columns:\n",
        "    pass\n",
        "else:\n",
        "    svod = pd.merge(svod, \n",
        "                  salary_reg_median, \n",
        "                  on=['region', 'gender', 'edu_group'], \n",
        "                  how='left')\n",
        "svod.head(3)"
      ],
      "execution_count": null,
      "outputs": []
    },
    {
      "cell_type": "code",
      "metadata": {
        "id": "Fv2a-uJBu3X5"
      },
      "source": [
        "svod.shape[0]"
      ],
      "execution_count": null,
      "outputs": []
    },
    {
      "cell_type": "code",
      "metadata": {
        "id": "g5XJNvzTvcOf"
      },
      "source": [
        "svod[svod['salary_average_x'].isna()].shape[0]"
      ],
      "execution_count": null,
      "outputs": []
    },
    {
      "cell_type": "code",
      "metadata": {
        "id": "9D4qaVg1vl_b"
      },
      "source": [
        "svod.loc[svod['salary_average_x'].isna(), 'salary_average_x'] \\\n",
        "    = svod.loc[svod['salary_average_x'].isna(), 'salary_average_y']"
      ],
      "execution_count": null,
      "outputs": []
    },
    {
      "cell_type": "code",
      "metadata": {
        "id": "XsCeyH3bvwS9"
      },
      "source": [
        "svod[svod['salary_average_x'].isna()]"
      ],
      "execution_count": null,
      "outputs": []
    },
    {
      "cell_type": "code",
      "metadata": {
        "id": "ssDqB6aBv1ul"
      },
      "source": [
        "if svod[svod['salary_average_x'].isna()].shape[0] > 0:\n",
        "    svod = svod.drop(index=svod[svod['salary_average_x'].isna()].index)\n",
        "else:\n",
        "    pass"
      ],
      "execution_count": null,
      "outputs": []
    },
    {
      "cell_type": "code",
      "metadata": {
        "id": "No9NhmcTwU2I"
      },
      "source": [
        "if 'salary_average_x' in svod.columns:\n",
        "    svod['salary_average_x'].unique()\n",
        "    svod['salary_average_x'].isna().mean()\n",
        "    svod = svod.drop('salary_average_y', axis=1).rename(columns={'salary_average_x':'salary_average'})\n",
        "else:\n",
        "    pass\n",
        "svod['salary_average'] = pd.to_numeric(svod['salary_average']).astype('int')"
      ],
      "execution_count": null,
      "outputs": []
    },
    {
      "cell_type": "code",
      "metadata": {
        "id": "xHgwltvLw14H"
      },
      "source": [
        "# Разберёмся с датами\n",
        "svod['month'] = pd.to_datetime(svod['month'], format='%Y-%m-%d')\n",
        "svod['month'].dtype"
      ],
      "execution_count": null,
      "outputs": []
    },
    {
      "cell_type": "code",
      "metadata": {
        "id": "33AWSUv3grRo"
      },
      "source": [
        "svod.to_csv(r'C:\\Users\\Пользователь\\Documents\\svod_volga.csv', index = False)"
      ],
      "execution_count": null,
      "outputs": []
    },
    {
      "cell_type": "markdown",
      "metadata": {
        "id": "0P3EbHUlprJ_"
      },
      "source": [
        "#Дополнительная информация по пандемии\n",
        "\n",
        "Ввод ограничений в стране по датам выступления президента:  \n",
        "25.03 – объявлены выходные дни с субботы 28 марта по воскресенье 5 апреля  \n",
        "02.04 - нерабочие дни продлены до конца месяца, то есть по 30 апреля включительно  \n",
        "28.04 -  период нерабочих дней продлен до 11 мая включительно  \n",
        "11.05 – с 12.05 единый период нерабочих дней для всей страны завершился. Далее поэтапный выход из режима ограничений в каждом регионе по-своему.\n",
        "\n",
        "## Пособия\n",
        "### Апрель  \n",
        "\n",
        "1. До конца 2020 года максимальная сумма увеличена с 8000 до 12 130 рублей в месяц - **Постановление от 27.03**\n",
        "2. Уволенным с 1 марта 2020 года пособие за апрель, май, июнь назначается в максимальном размере  - **12.04**\n",
        "3. Одному из родителей, уволенному с 1 марта 2020 года, в апреле, мае и июне назначается доплата в размере 3000 рублей на каждого ребенка.\n",
        "4. Встать на учет в качестве безработного можно дистанционно (упрощенный порядок) - **9.04**\n",
        "\n",
        "### Июнь (постановление от 10.06)\n",
        "1. Минимальный размер пособия в мае — июле 2020 года составляет 4500 рублей в месяц. В другие месяцы минимальный размер пособия составит 1500 рублей. \n",
        "2. В июне — августе 2020 года одному из родителей, который зарегистрирован в качестве безработного, дополнительно выплачиваются по 3000 рублей на каждого ребенка до 18 лет. \n",
        "3. Индивидуальные предприниматели, прекратившие свою деятельность после 1 марта и признанные безработными, смогут получать пособие в размере 12 130 рублей. Эта сумма назначается на срок не более трех месяцев, но не позднее 1 октября 2020 года.\n",
        "4. Безработным гражданам, у которых истек срок выплаты пособия после 1 марта 2020 года, выплата автоматически продлевается на срок не более трех месяцев, но не позднее 1 октября 2020 года. Размер нового пособия будет равен той сумме, которая выплачивалась ранее, но в пределах максимального и минимального размера, установленного на день продления выплаты.\n",
        "\n",
        "Июль (Постановление от 4.07)\n",
        "Продлен срок выплат пособия по безработице в максимальном размере:\n",
        "1. Уволенным с 1 марта 2020 года будет выплачиваться пособие в размере 12 130 рублей в месяц не только с апреля по июнь, но и в июле и августе.\n",
        "2. Минимальный размер пособия повышен до 4500 рублей не только в период с мая по июль, но также и в августе 2020 года.\n",
        "Сентябрь (Постановление от 9.09)\n",
        "Срок доплаты безработным родителям продлен по сентябрь включительно. Один из родителей сможет получать по 3000 ₽ на каждого несовершеннолетнего ребенка.\n"
      ]
    }
  ]
}