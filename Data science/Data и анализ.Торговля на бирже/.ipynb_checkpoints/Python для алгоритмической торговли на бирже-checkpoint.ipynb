{
 "cells": [
  {
   "cell_type": "code",
   "execution_count": 5,
   "metadata": {},
   "outputs": [],
   "source": [
    "import pandas_datareader as pdr\n",
    "import datetime \n",
    "aapl = pdr.get_data_yahoo('AAPL', \n",
    "                          start=datetime.datetime(2006, 10, 1), \n",
    "                          end=datetime.datetime(2012, 1, 1))"
   ]
  },
  {
   "cell_type": "code",
   "execution_count": 6,
   "metadata": {},
   "outputs": [],
   "source": [
    "import pandas as pd\n",
    "#aapl.to_csv('data/aapl_ohlc.csv')# Добавляем data\n",
    "df = pd.read_csv('data/aapl_ohlc.csv', header=0, index_col='Date', parse_dates=True)"
   ]
  },
  {
   "cell_type": "code",
   "execution_count": 7,
   "metadata": {},
   "outputs": [
    {
     "data": {
      "text/plain": [
       "pandas.core.series.Series"
      ]
     },
     "execution_count": 7,
     "metadata": {},
     "output_type": "execute_result"
    }
   ],
   "source": [
    "# Inspect the index \n",
    "df.index\n",
    " \n",
    "# Inspect the columns\n",
    "df.columns\n",
    " \n",
    "# Select only the last 10 observations of `Close`\n",
    "ts = aapl['Close'][-10:]\n",
    " \n",
    "# Check the type of `ts` \n",
    "type(ts)"
   ]
  },
  {
   "cell_type": "code",
   "execution_count": 13,
   "metadata": {},
   "outputs": [
    {
     "name": "stdout",
     "output_type": "stream",
     "text": [
      "                 High        Low       Open      Close     Volume  Adj Close\n",
      "Date                                                                        \n",
      "2006-10-02  10.838572  10.614285  10.728572  10.694285  178159800   9.258014\n",
      "2006-10-03  10.707143  10.455714  10.635715  10.582857  197677200   9.161551\n",
      "2006-10-04  10.780000  10.451428  10.585714  10.768572  207270700   9.322326\n",
      "2006-10-05  10.880000  10.590000  10.647142  10.690000  170970800   9.254304\n",
      "2006-10-06  10.720000  10.544286  10.631429  10.602858  116739700   9.178867\n",
      "...               ...        ...        ...        ...        ...        ...\n",
      "2011-12-23  57.655716  57.070000  57.098572  57.618572   67349800  49.880241\n",
      "2011-12-27  58.441429  57.574287  57.585712  58.075714   66269000  50.275993\n",
      "2011-12-28  58.321430  57.334286  58.127144  57.520000   57165500  49.794914\n",
      "2011-12-29  57.950001  57.215714  57.628571  57.874287   53994500  50.101627\n",
      "2011-12-30  58.040001  57.641430  57.644287  57.857143   44915500  50.086784\n",
      "\n",
      "[1323 rows x 6 columns]\n"
     ]
    }
   ],
   "source": [
    "print(df)"
   ]
  },
  {
   "cell_type": "code",
   "execution_count": 31,
   "metadata": {},
   "outputs": [
    {
     "name": "stdout",
     "output_type": "stream",
     "text": [
      "                 High        Low       Open      Close     Volume  Adj Close\n",
      "Date                                                                        \n",
      "2006-11-01  11.625714  11.194285  11.585714  11.308572  152798100   9.789802\n",
      "2006-11-02  11.331429  11.214286  11.274285  11.282857  116370800   9.767539\n",
      "2006-11-03  11.361428  11.112857  11.337143  11.184286  107972200   9.682207\n",
      "2006-11-06  11.437143  11.204286  11.278571  11.387143  108644200   9.857821\n",
      "2006-11-07  11.571428  11.447143  11.492857  11.501429  131483100   9.956757\n",
      "                 High        Low       Open      Close     Volume  Adj Close\n",
      "Date                                                                        \n",
      "2007-01-03  12.368571  11.700000  12.327143  11.971429  309579900  10.363638\n",
      "2007-01-04  12.278571  11.974286  12.007143  12.237143  211815100  10.593664\n",
      "2007-01-05  12.314285  12.057143  12.252857  12.150000  208685400  10.518225\n",
      "2007-01-08  12.361428  12.182858  12.280000  12.210000  199276700  10.570165\n",
      "2007-01-09  13.282857  12.164286  12.350000  13.224286  837324600  11.448232\n",
      "                 High        Low       Open      Close     Volume  Adj Close\n",
      "Date                                                                        \n",
      "2006-11-01  11.625714  11.194285  11.585714  11.308572  152798100   9.789802\n",
      "2006-11-02  11.331429  11.214286  11.274285  11.282857  116370800   9.767539\n",
      "2006-11-03  11.361428  11.112857  11.337143  11.184286  107972200   9.682207\n",
      "2006-11-06  11.437143  11.204286  11.278571  11.387143  108644200   9.857821\n",
      "2006-11-07  11.571428  11.447143  11.492857  11.501429  131483100   9.956757\n",
      "2006-11-08  11.812857  11.412857  11.431429  11.778571  172729200  10.196676\n",
      "2006-11-09  12.098572  11.731428  11.842857  11.905714  230763400  10.306746\n",
      "2006-11-10  11.942857  11.785714  11.935715  11.874286   93466100  10.279537\n",
      "2006-11-13  12.064285  11.805715  11.888572  12.050000  112668500  10.431654\n",
      "2006-11-14  12.142858  11.985714  12.114285  12.142858  147238700  10.512039\n",
      "2006-11-15  12.271428  12.000000  12.150000  12.007143  163830800  10.394552\n",
      "2006-11-16  12.328571  12.088572  12.124286  12.230000  173485200  10.587480\n",
      "2006-11-17  12.277143  12.142858  12.162857  12.264286  116606000  10.617161\n",
      "2006-11-20  12.428572  12.171429  12.200000  12.352858  142698500  10.693839\n",
      "2006-11-21  12.657143  12.444285  12.488571  12.657143  155666700  10.957254\n",
      "2006-11-22  12.964286  12.550000  12.712857  12.901428  167985300  11.168736\n",
      "2006-11-24  13.297143  12.785714  12.790000  13.090000  129669400  11.331979\n",
      "2006-11-27  13.308572  12.785714  13.215714  12.791429  268709000  11.073504\n",
      "2006-11-28  13.138572  12.844286  12.908571  13.115714  259043400  11.354239\n",
      "2006-11-29  13.307143  12.892858  13.285714  13.114285  289270800  11.353003\n",
      "2006-11-30  13.240000  13.008572  13.172857  13.094286  217621600  11.335690\n",
      "                 High      Close\n",
      "Date                            \n",
      "2006-11-01  11.625714  11.308572\n",
      "2006-12-01  13.190000  13.045714\n"
     ]
    }
   ],
   "source": [
    "# Inspect the first rows of November-December 2006\n",
    "print(df.loc[pd.Timestamp('2006-11-01'):pd.Timestamp('2006-12-31')].head())\n",
    " \n",
    "# Inspect the first rows of 2007 \n",
    "print(df.loc['2007'].head())\n",
    " \n",
    "# Inspect November 2006\n",
    "print(df.iloc[22:43])\n",
    " \n",
    "# Inspect the 'Open' and 'Close' values at 2006-11-01 and 2006-12-01\n",
    "print(df.iloc[[22,43], [0, 3]])"
   ]
  },
  {
   "cell_type": "code",
   "execution_count": 36,
   "metadata": {},
   "outputs": [
    {
     "name": "stdout",
     "output_type": "stream",
     "text": [
      "                 High        Low       Open      Close     Volume  Adj Close\n",
      "Date                                                                        \n",
      "2009-04-06  16.964285  16.182858  16.420000  16.921429  164516100  14.648834\n",
      "2011-01-31  48.577145  47.757141  47.971428  48.474285   94311700  41.964069\n",
      "2010-05-05  36.877144  35.532856  36.147144  36.570000  220775800  31.658550\n",
      "2007-08-29  19.168571  18.505714  18.554285  19.154285  291715200  16.581816\n",
      "2010-09-15  38.625713  38.262856  38.310001  38.602856  107342200  33.418404\n",
      "2011-03-14  50.925713  50.187141  50.454285  50.508572  108989300  43.725136\n",
      "2009-12-21  28.535715  27.952858  28.007143  28.318571  152976600  24.515310\n",
      "2009-04-08  16.684286  16.368572  16.490000  16.617144  113907500  14.385418\n",
      "2007-05-01  14.335714  14.078571  14.227143  14.210000  133130900  12.301558\n",
      "2011-02-18  51.357143  49.931427  51.244286  50.080002  204014300  43.354118\n",
      "2007-04-11  13.421429  13.190000  13.414286  13.227143  137254600  11.450703\n",
      "2008-04-23  23.548571  23.011429  23.435715  23.270000  376047700  20.144779\n",
      "2011-08-01  57.071430  56.052856  56.825714  56.678570  153209000  49.066498\n",
      "2008-05-23  25.998571  25.400000  25.824286  25.881428  226729300  22.405485\n",
      "2010-03-03  29.981428  29.705715  29.848572  29.904285   93013200  25.888062\n",
      "2008-11-10  14.342857  13.500000  14.310000  13.697143  280955500  11.857582\n",
      "2011-07-22  56.435715  55.392857  55.474285  56.185715  129182200  48.639839\n",
      "2007-10-12  23.897142  23.114286  23.287144  23.892857  247044000  20.683983\n",
      "2007-01-11  13.825714  13.585714  13.705714  13.685715  360063200  11.847687\n",
      "2009-11-02  27.554285  26.510000  27.114286  27.044285  169745800  23.412172\n",
      "                 High        Low       Open      Close        Volume  \\\n",
      "Date                                                                   \n",
      "2006-10-31  11.123766  10.893117  11.002922  11.017987  1.634995e+08   \n",
      "2006-11-30  12.314626  12.028980  12.161565  12.192109  1.647010e+08   \n",
      "2006-12-31  12.546500  12.205571  12.415857  12.353071  2.111349e+08   \n",
      "2007-01-31  12.880857  12.522572  12.722357  12.697357  3.401223e+08   \n",
      "2007-02-28  12.382932  12.111804  12.252105  12.246842  1.805573e+08   \n",
      "...               ...        ...        ...        ...           ...   \n",
      "2011-08-31  54.550000  53.021304  53.894347  53.823230  1.754630e+08   \n",
      "2011-09-30  56.745918  55.438096  56.054217  56.070476  1.425887e+08   \n",
      "2011-10-31  57.402380  55.932245  56.677687  56.747143  1.564456e+08   \n",
      "2011-11-30  55.554218  54.526599  55.181157  54.973606  1.067107e+08   \n",
      "2011-12-31  56.523537  55.734217  56.110068  56.132925  7.507777e+07   \n",
      "\n",
      "            Adj Close  \n",
      "Date                   \n",
      "2006-10-31   9.538242  \n",
      "2006-11-30  10.554677  \n",
      "2006-12-31  10.694023  \n",
      "2007-01-31  10.992069  \n",
      "2007-02-28  10.602059  \n",
      "...               ...  \n",
      "2011-08-31  46.594630  \n",
      "2011-09-30  48.540065  \n",
      "2011-10-31  49.125855  \n",
      "2011-11-30  47.590506  \n",
      "2011-12-31  48.594130  \n",
      "\n",
      "[63 rows x 6 columns]\n"
     ]
    }
   ],
   "source": [
    "# Sample 20 rows\n",
    "sample = df.sample(20)\n",
    " \n",
    "# Print `sample`\n",
    "print(sample)\n",
    " \n",
    "# Resample to monthly level \n",
    "monthly_df = df.resample('M').mean()\n",
    " \n",
    "# Print `monthly_aapl`\n",
    "print(monthly_df)"
   ]
  },
  {
   "cell_type": "code",
   "execution_count": 47,
   "metadata": {},
   "outputs": [],
   "source": [
    "# Add a column `diff` to `aapl` \n",
    "df['diff'] = df.Open - df.Close\n",
    " \n",
    "# Delete the new `diff` column\n",
    "del df['diff']"
   ]
  },
  {
   "cell_type": "code",
   "execution_count": 48,
   "metadata": {},
   "outputs": [
    {
     "data": {
      "image/png": "[encoded data removed]",
      "text/plain": [
       "<Figure size 432x288 with 1 Axes>"
      ]
     },
     "metadata": {
      "needs_background": "light"
     },
     "output_type": "display_data"
    }
   ],
   "source": [
    "# Import Matplotlib's `pyplot` module as `plt`\n",
    "import matplotlib.pyplot as plt\n",
    " \n",
    "# Plot the closing prices for `aapl`\n",
    "df['Close'].plot(grid=True)\n",
    " \n",
    "# Show the plot\n",
    "plt.show()"
   ]
  },
  {
   "cell_type": "markdown",
   "metadata": {},
   "source": [
    "https://habr.com/ru/company/iticapital/blog/331542/"
   ]
  },
  {
   "cell_type": "code",
   "execution_count": null,
   "metadata": {},
   "outputs": [],
   "source": []
  }
 ],
 "metadata": {
  "kernelspec": {
   "display_name": "Python 3",
   "language": "python",
   "name": "python3"
  },
  "language_info": {
   "codemirror_mode": {
    "name": "ipython",
    "version": 3
   },
   "file_extension": ".py",
   "mimetype": "text/x-python",
   "name": "python",
   "nbconvert_exporter": "python",
   "pygments_lexer": "ipython3",
   "version": "3.7.6"
  }
 },
 "nbformat": 4,
 "nbformat_minor": 4
}
